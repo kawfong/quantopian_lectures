{
 "cells": [
  {
   "cell_type": "markdown",
   "metadata": {},
   "source": [
    "# Introduction to NumPy\n",
    "by Maxwell Margenot\n",
    "\n",
    "Part of the Quantopian Lecture Series:\n",
    "\n",
    "* [www.quantopian.com/lectures](https://www.quantopian.com/lectures)\n",
    "* [github.com/quantopian/research_public](https://github.com/quantopian/research_public)\n",
    "\n",
    "Notebook released under the Creative Commons Attribution 4.0 License."
   ]
  },
  {
   "cell_type": "markdown",
   "metadata": {},
   "source": [
    "NumPy is an incredibly powerful package in Python that is ubiquitous throughout the Quantopian platform. It has strong integration with Pandas, another tool we will be covering in the lecture series. NumPy adds support for multi-dimensional arrays and mathematical functions that allow you to easily perform linear algebra calculations. This lecture will be a collection of linear algebra examples computed using NumPy."
   ]
  },
  {
   "cell_type": "code",
   "execution_count": 31,
   "metadata": {
    "collapsed": true
   },
   "outputs": [],
   "source": [
    "import numpy as np\n",
    "import matplotlib.pyplot as plt"
   ]
  },
  {
   "cell_type": "markdown",
   "metadata": {},
   "source": [
    "### Basic NumPy arrays"
   ]
  },
  {
   "cell_type": "markdown",
   "metadata": {},
   "source": [
    "The most basic way that we could make use of NumPy in finance is calculating the mean return of a portfolio. Say that we have a list containing the historical return of several stocks."
   ]
  },
  {
   "cell_type": "code",
   "execution_count": 32,
   "metadata": {
    "collapsed": true
   },
   "outputs": [],
   "source": [
    "stock_list = [3.5, 5, 2, 8, 4.2]"
   ]
  },
  {
   "cell_type": "markdown",
   "metadata": {},
   "source": [
    "We can make an array by calling a function on the list:"
   ]
  },
  {
   "cell_type": "code",
   "execution_count": 33,
   "metadata": {
    "collapsed": false
   },
   "outputs": [
    {
     "name": "stdout",
     "output_type": "stream",
     "text": [
      "[3.5 5.  2.  8.  4.2] <class 'numpy.ndarray'>\n"
     ]
    }
   ],
   "source": [
    "returns = np.array(stock_list)\n",
    "print(returns, type(returns))"
   ]
  },
  {
   "cell_type": "markdown",
   "metadata": {},
   "source": [
    "You'll notice that the type of our array is 'ndarray', not just 'array'. This is because NumPy arrays can be created with multiple dimensions. If we pass np.array() a list of lists, it will create a 2-dimensional array. If we pass a list of lists of lists, it will create a 3-dimensional array, and so on and so forth."
   ]
  },
  {
   "cell_type": "code",
   "execution_count": 34,
   "metadata": {
    "collapsed": false
   },
   "outputs": [
    {
     "name": "stdout",
     "output_type": "stream",
     "text": [
      "[[1 2]\n",
      " [3 4]] <class 'numpy.ndarray'>\n"
     ]
    }
   ],
   "source": [
    "A = np.array([[1, 2], [3, 4]])\n",
    "print(A, type(A))"
   ]
  },
  {
   "cell_type": "markdown",
   "metadata": {},
   "source": [
    "We can access the dimensions of an array by looking at its `shape` member variable."
   ]
  },
  {
   "cell_type": "code",
   "execution_count": 35,
   "metadata": {
    "collapsed": false
   },
   "outputs": [
    {
     "name": "stdout",
     "output_type": "stream",
     "text": [
      "(2, 2)\n"
     ]
    }
   ],
   "source": [
    "print(A.shape)"
   ]
  },
  {
   "cell_type": "markdown",
   "metadata": {},
   "source": [
    "Arrays are indexed in much the same way as lists in Python. Elements of a list begin indexing from $0$ and end at $n - 1$, where $n$ is the length of the array."
   ]
  },
  {
   "cell_type": "code",
   "execution_count": 36,
   "metadata": {
    "collapsed": false
   },
   "outputs": [
    {
     "name": "stdout",
     "output_type": "stream",
     "text": [
      "3.5 4.2\n"
     ]
    }
   ],
   "source": [
    "print(returns[0], returns[len(returns) - 1])"
   ]
  },
  {
   "cell_type": "markdown",
   "metadata": {},
   "source": [
    "We can take a slice of an array using a colon, just like in a list."
   ]
  },
  {
   "cell_type": "code",
   "execution_count": 37,
   "metadata": {
    "collapsed": false
   },
   "outputs": [
    {
     "name": "stdout",
     "output_type": "stream",
     "text": [
      "[5. 2.]\n"
     ]
    }
   ],
   "source": [
    "print(returns[1:3])"
   ]
  },
  {
   "cell_type": "markdown",
   "metadata": {},
   "source": [
    "A slice of an array, like in a list, will select a group of elements in the array starting from the first element indicated and going up to (but not including) the last element indicated.\n",
    "\n",
    "In the case of multidimensional arrays, many of the same conventions with slicing and indexing hold. We can access the first column of a 2-dimensional array like so:"
   ]
  },
  {
   "cell_type": "code",
   "execution_count": 38,
   "metadata": {
    "collapsed": false
   },
   "outputs": [
    {
     "name": "stdout",
     "output_type": "stream",
     "text": [
      "[1 3]\n"
     ]
    }
   ],
   "source": [
    "print(A[:, 0])"
   ]
  },
  {
   "cell_type": "markdown",
   "metadata": {},
   "source": [
    "And the first row of a 2-dimensional array like so:"
   ]
  },
  {
   "cell_type": "code",
   "execution_count": 39,
   "metadata": {
    "collapsed": false
   },
   "outputs": [
    {
     "name": "stdout",
     "output_type": "stream",
     "text": [
      "[1 2]\n"
     ]
    }
   ],
   "source": [
    "print(A[0, :])"
   ]
  },
  {
   "cell_type": "markdown",
   "metadata": {},
   "source": [
    "Notice that each slice of the array returns yet another array!"
   ]
  },
  {
   "cell_type": "code",
   "execution_count": 40,
   "metadata": {
    "collapsed": false
   },
   "outputs": [
    {
     "name": "stdout",
     "output_type": "stream",
     "text": [
      "<class 'numpy.ndarray'>\n"
     ]
    }
   ],
   "source": [
    "print(type(A[0,:]))"
   ]
  },
  {
   "cell_type": "markdown",
   "metadata": {},
   "source": [
    "Passing only one index to a 2-dimensional array will result in returning the row with the given index as well, providing us with another way to access individual rows."
   ]
  },
  {
   "cell_type": "code",
   "execution_count": 41,
   "metadata": {
    "collapsed": false
   },
   "outputs": [
    {
     "name": "stdout",
     "output_type": "stream",
     "text": [
      "[1 2]\n"
     ]
    }
   ],
   "source": [
    "print(A[0])"
   ]
  },
  {
   "cell_type": "markdown",
   "metadata": {},
   "source": [
    "Accessing the index of an individual element will return only the element."
   ]
  },
  {
   "cell_type": "code",
   "execution_count": 42,
   "metadata": {
    "collapsed": false
   },
   "outputs": [
    {
     "name": "stdout",
     "output_type": "stream",
     "text": [
      "4\n"
     ]
    }
   ],
   "source": [
    "print(A[1, 1])"
   ]
  },
  {
   "cell_type": "markdown",
   "metadata": {},
   "source": [
    "#### Array functions\n",
    "\n",
    "Functions built into NumPy can be easily called on arrays. Most functions are applied to an array element-wise (as scalar multiplication is). For example, if we call `log()` on an array, the logarithm will be taken of each element."
   ]
  },
  {
   "cell_type": "code",
   "execution_count": 43,
   "metadata": {
    "collapsed": false
   },
   "outputs": [
    {
     "name": "stdout",
     "output_type": "stream",
     "text": [
      "[1.25276297 1.60943791 0.69314718 2.07944154 1.43508453]\n"
     ]
    }
   ],
   "source": [
    "print(np.log(returns))"
   ]
  },
  {
   "cell_type": "markdown",
   "metadata": {},
   "source": [
    "Some functions return a single value. This is because they treat the array as a collection (similar to a list), performing the designated function. For example, the `mean()` function will do exactly what you expect, calculating the mean of an array."
   ]
  },
  {
   "cell_type": "code",
   "execution_count": 44,
   "metadata": {
    "collapsed": false
   },
   "outputs": [
    {
     "name": "stdout",
     "output_type": "stream",
     "text": [
      "4.54\n"
     ]
    }
   ],
   "source": [
    "print(np.mean(returns))"
   ]
  },
  {
   "cell_type": "markdown",
   "metadata": {},
   "source": [
    "Or the `max()` function will return the maximum element of an array."
   ]
  },
  {
   "cell_type": "code",
   "execution_count": 45,
   "metadata": {
    "collapsed": false
   },
   "outputs": [
    {
     "name": "stdout",
     "output_type": "stream",
     "text": [
      "8.0\n"
     ]
    }
   ],
   "source": [
    "print(np.max(returns))"
   ]
  },
  {
   "cell_type": "markdown",
   "metadata": {},
   "source": [
    "For further reading on the universal functions in NumPy, check out the [documentation](https://docs.scipy.org/doc/numpy/user/quickstart.html#universal-functions)."
   ]
  },
  {
   "cell_type": "markdown",
   "metadata": {},
   "source": [
    "### Return to the returns\n",
    "\n",
    "Now let's modify our returns array with scalar values. If we add a scalar value to an array it will be added to every element of the array. If we multiply an array by a scalar value it will be multiplied against every element of the array. If we do both, both will happen!"
   ]
  },
  {
   "cell_type": "code",
   "execution_count": 64,
   "metadata": {
    "collapsed": false,
    "scrolled": false
   },
   "outputs": [
    {
     "data": {
      "text/plain": [
       "array([[7.00662394, 7.022594  , 7.05006108, 6.98096867, 6.96956919,\n",
       "        7.06805202, 7.08515771, 6.86693076, 6.97279713, 7.11744027,\n",
       "        7.05996641, 7.03166495, 7.08764268, 7.20500648, 7.09326936,\n",
       "        7.0166389 , 7.041205  , 7.06614468, 7.01442041, 7.12067965,\n",
       "        7.03038109, 6.91539485, 6.97336916, 6.9260083 , 7.04693992,\n",
       "        6.99788549, 7.09637596, 7.03674146, 7.07488112, 6.97578471,\n",
       "        7.0158708 , 7.03834742, 7.01222321, 7.04716317, 7.12119916,\n",
       "        7.07198273, 7.05451264, 7.06191908, 7.01345177, 7.00453437,\n",
       "        6.99125562, 6.94632703, 7.0720223 , 6.91122018, 6.95516818,\n",
       "        7.08590191, 6.96226139, 6.9677045 , 7.03221889, 7.02724954,\n",
       "        6.99253685, 6.9901204 , 7.13875017, 6.98120652, 6.9682242 ,\n",
       "        7.07929803, 7.06237123, 7.07737499, 7.05152138, 7.04539264,\n",
       "        7.1072962 , 7.01466323, 6.99694349, 7.07900387, 6.97190937,\n",
       "        6.95983747, 7.02795929, 7.09674518, 6.93371709, 6.97135939,\n",
       "        7.08551876, 6.94703041, 7.01134315, 7.10821794, 7.13609138,\n",
       "        7.05403694, 6.9699487 , 7.10699899, 6.92954263, 7.07368725,\n",
       "        6.99007765, 6.988326  , 7.04261512, 7.02253141, 6.9972462 ,\n",
       "        7.04230657, 7.09218982, 7.06259832, 7.0066347 , 6.99275403,\n",
       "        7.00277609, 6.91361069, 7.14880174, 7.10029931, 6.93338716,\n",
       "        6.89981913, 7.02531201, 6.94859893, 7.00538659, 7.01057521],\n",
       "       [6.97923658, 6.97368031, 7.08353667, 6.94075271, 7.0037052 ,\n",
       "        7.08405658, 7.00619945, 6.86299891, 7.008783  , 7.07821534,\n",
       "        6.98080521, 7.01348633, 7.04309205, 7.24572453, 7.07886473,\n",
       "        7.01953561, 7.06851382, 7.06022265, 7.01120233, 7.09806161,\n",
       "        7.06573525, 6.9047272 , 6.89693724, 6.95444638, 7.13101487,\n",
       "        7.07092741, 7.12130646, 7.14172384, 7.13145876, 6.98001482,\n",
       "        6.90829868, 7.0968404 , 7.03787899, 7.04791839, 7.1063307 ,\n",
       "        7.05205502, 7.06057822, 7.05351414, 7.0490689 , 7.0880045 ,\n",
       "        7.08697639, 6.88842473, 7.0113897 , 6.91129137, 6.92753035,\n",
       "        7.04012301, 6.95855805, 6.92644861, 7.07317613, 7.0411934 ,\n",
       "        7.01440117, 6.99925135, 7.20695831, 6.9435084 , 7.03666009,\n",
       "        7.07326289, 7.04357375, 7.08720167, 7.0655579 , 7.09880288,\n",
       "        7.0882213 , 7.02465235, 7.06905854, 7.08047498, 6.96601437,\n",
       "        6.94425409, 7.00554266, 7.05752435, 6.91322282, 6.94620214,\n",
       "        7.15813972, 6.93276681, 7.02078577, 7.1012674 , 7.13601899,\n",
       "        6.93205645, 6.97352981, 7.12405348, 6.8926851 , 7.09610085,\n",
       "        6.99419359, 6.94935858, 7.03902417, 6.98244046, 6.97694833,\n",
       "        7.06366355, 7.04579112, 7.0768121 , 6.92992261, 6.9635771 ,\n",
       "        7.02474652, 6.93896401, 7.11746296, 7.06706218, 6.88926798,\n",
       "        6.86875284, 7.03210126, 6.9641748 , 6.95573128, 7.00459236],\n",
       "       [7.04139943, 7.00979931, 7.06536261, 7.00635671, 6.97985404,\n",
       "        7.06144306, 7.04951536, 6.82036077, 6.98445313, 7.10549583,\n",
       "        7.0736544 , 7.04635828, 7.11672223, 7.23102229, 7.08843819,\n",
       "        6.96681968, 7.06375356, 7.00402947, 6.98701658, 7.13813478,\n",
       "        7.05376033, 6.9227803 , 7.00774258, 6.88003124, 7.07364113,\n",
       "        7.00641839, 7.08592433, 6.98166424, 7.09325449, 6.9101458 ,\n",
       "        6.98556331, 7.06498856, 7.00488119, 7.00194365, 7.15916306,\n",
       "        7.09744189, 7.04936666, 7.0359586 , 7.06354238, 6.97834226,\n",
       "        6.97784287, 6.97100203, 7.10013197, 6.906892  , 6.96817448,\n",
       "        7.09537824, 6.95124444, 6.97087277, 7.0552285 , 7.01761058,\n",
       "        6.95758391, 7.06448641, 7.20652964, 6.97453297, 6.87201562,\n",
       "        7.07814032, 7.0657093 , 7.09162671, 7.0685826 , 7.07461473,\n",
       "        7.13191852, 7.02862961, 6.96870946, 7.0645283 , 6.90107692,\n",
       "        6.94565045, 6.99152561, 7.11665901, 6.84106718, 6.95877347,\n",
       "        7.02737939, 6.95232799, 6.99008202, 7.148319  , 7.17044633,\n",
       "        7.12847812, 7.01101356, 7.09310261, 6.9169108 , 7.05524889,\n",
       "        6.98185837, 7.05285382, 7.06183725, 6.95695849, 7.01081011,\n",
       "        7.07680732, 7.11866889, 7.00056634, 6.97835277, 7.01534073,\n",
       "        7.02713553, 6.90653746, 7.06273019, 7.08985559, 6.97309345,\n",
       "        6.88711504, 7.03219374, 6.89224541, 6.95713354, 7.07406365],\n",
       "       [7.02591639, 7.01886229, 7.07766537, 6.90189157, 6.97794919,\n",
       "        7.06027312, 7.13111957, 6.81097218, 7.02865071, 7.12616643,\n",
       "        6.98946848, 7.05719044, 7.03236028, 7.20633592, 7.06703694,\n",
       "        7.00823751, 7.08627152, 7.07543743, 7.00227939, 7.15271079,\n",
       "        7.01952779, 6.93414547, 6.9819064 , 6.93637775, 7.04933405,\n",
       "        6.95171169, 7.12494021, 7.01030637, 7.05965974, 7.02188584,\n",
       "        7.0574851 , 7.04712867, 7.01254945, 7.06819787, 7.1899886 ,\n",
       "        7.09402621, 7.04218554, 7.10475425, 7.03531792, 6.99549871,\n",
       "        7.00111758, 6.94483826, 7.10921731, 6.93465715, 6.97337759,\n",
       "        7.06159227, 6.95231649, 6.99948816, 7.05313253, 7.01903011,\n",
       "        7.02708326, 6.95150645, 7.1315997 , 6.97031702, 7.01077637,\n",
       "        7.07335479, 7.05894574, 7.08047747, 7.00989376, 7.03579502,\n",
       "        7.11162895, 6.98153916, 7.04231693, 7.0654688 , 6.9784754 ,\n",
       "        6.92633613, 7.01896221, 7.05476902, 6.89815903, 6.99975544,\n",
       "        7.04458781, 6.90015617, 7.01248385, 7.07841045, 7.13452208,\n",
       "        7.08678074, 6.93110211, 7.11766301, 6.93824983, 6.99788022,\n",
       "        6.90630242, 6.95221896, 7.01030555, 6.99883597, 6.99561185,\n",
       "        6.98826054, 7.03550396, 7.06942807, 6.99558133, 7.04354792,\n",
       "        7.00423149, 6.95278397, 7.10752997, 7.04281943, 6.99386748,\n",
       "        6.914964  , 6.96887524, 6.96971418, 7.01332068, 7.031429  ],\n",
       "       [6.9790727 , 7.00962668, 7.09254646, 7.07278026, 6.99871019,\n",
       "        6.9777562 , 7.02914109, 6.83821941, 6.98317676, 7.20011815,\n",
       "        7.06846176, 7.04055712, 7.12795464, 7.22453866, 7.00747344,\n",
       "        6.96324978, 7.01990413, 7.06113543, 7.0413874 , 7.10506834,\n",
       "        7.05136621, 6.96204547, 7.06334969, 7.00030302, 6.99100697,\n",
       "        6.95990963, 7.06569154, 7.02885064, 7.08221221, 7.07891081,\n",
       "        7.02031911, 7.03425855, 7.01762562, 7.00926629, 7.09829087,\n",
       "        7.06124741, 7.08988621, 7.06651152, 6.98722668, 7.04314245,\n",
       "        7.01542314, 6.92833147, 7.08188699, 6.95850217, 6.96791743,\n",
       "        7.04535016, 6.97571977, 6.97128758, 7.02559529, 6.92744825,\n",
       "        7.05669347, 7.04195689, 7.09157231, 6.93600094, 6.93599052,\n",
       "        7.08123413, 7.08731065, 6.98237791, 7.04802586, 7.08226516,\n",
       "        7.0934726 , 7.05546967, 6.99160165, 7.03232288, 7.00199348,\n",
       "        6.99653669, 6.99916197, 7.13962561, 6.920097  , 6.97423184,\n",
       "        7.0894695 , 6.93666636, 7.03594174, 7.0362602 , 7.13637902,\n",
       "        7.00394846, 6.94036285, 7.1722858 , 7.02597258, 7.04015717,\n",
       "        7.00961575, 6.98650805, 7.05769313, 7.14764079, 7.0212806 ,\n",
       "        7.02910511, 7.05523405, 7.15952322, 7.06196633, 7.04700416,\n",
       "        6.99675177, 7.0014915 , 7.15643425, 7.10141024, 6.93834797,\n",
       "        6.9049782 , 6.96648408, 6.93918242, 6.96595933, 7.05690879],\n",
       "       [7.06405445, 7.03359774, 6.99321797, 6.92615674, 6.99129703,\n",
       "        7.0456474 , 7.11903773, 6.86793669, 7.04493772, 7.15087495,\n",
       "        6.99979773, 7.06058866, 7.06074107, 7.22160109, 7.0713723 ,\n",
       "        6.97743999, 7.01539587, 7.08585522, 7.03511196, 7.10013029,\n",
       "        7.03860486, 6.95059126, 6.94693462, 6.9611519 , 7.03802891,\n",
       "        7.04765339, 7.10257033, 7.0647147 , 7.06194025, 6.90512643,\n",
       "        7.01351065, 7.03244554, 7.0004    , 7.06760953, 7.08112722,\n",
       "        7.07086541, 6.88714446, 7.09007937, 7.00313138, 7.06136496,\n",
       "        7.0135607 , 6.94181037, 7.15470697, 6.87164224, 6.92374218,\n",
       "        7.15315882, 6.90763119, 6.96826175, 7.02084955, 7.00944508,\n",
       "        7.01082151, 6.9116628 , 7.18169327, 7.07656175, 6.99017545,\n",
       "        7.09438295, 7.09753208, 7.07723379, 7.02022793, 7.06893228,\n",
       "        7.03182406, 7.06119269, 6.93602899, 7.06567882, 6.95131931,\n",
       "        6.99765734, 7.0164631 , 7.17859652, 6.91644375, 7.04754779,\n",
       "        7.13608917, 6.92073726, 7.04053959, 7.08566651, 7.13010944,\n",
       "        7.07009944, 7.02117324, 7.10143193, 7.00692691, 7.10826151,\n",
       "        7.01501191, 6.95438827, 7.05580369, 6.97038692, 6.94084196,\n",
       "        6.94950107, 7.03371982, 7.0374295 , 6.93393138, 6.96594795,\n",
       "        6.95389589, 6.93570299, 7.08171568, 7.12584035, 7.02284224,\n",
       "        6.87052503, 7.05134258, 6.98181712, 7.0217671 , 7.00268065],\n",
       "       [6.99182983, 7.04612444, 7.04210676, 7.00236171, 6.88881126,\n",
       "        7.10010239, 7.06225554, 6.8274266 , 6.98171413, 7.1304611 ,\n",
       "        7.11977398, 7.08581102, 7.08371699, 7.26315194, 7.0598237 ,\n",
       "        7.00688947, 7.05770171, 7.09629901, 6.97924497, 7.06296165,\n",
       "        7.09335693, 6.98338017, 6.99068351, 6.96974093, 7.00517845,\n",
       "        6.96911913, 7.13606875, 7.06630647, 7.03836136, 7.01133895,\n",
       "        7.04467974, 7.06712303, 7.07347478, 7.0178414 , 7.16573908,\n",
       "        7.01688356, 7.02193196, 7.07893103, 7.01684563, 7.0118313 ,\n",
       "        6.98153494, 6.95790763, 7.03279649, 6.93842667, 6.95276026,\n",
       "        7.01884304, 6.98917083, 6.96960013, 7.07245184, 7.04928603,\n",
       "        7.0045909 , 6.98534821, 7.17045731, 7.00590539, 6.97720792,\n",
       "        7.02481887, 7.00240807, 7.04285215, 7.03457732, 7.07883039,\n",
       "        7.16034316, 7.03047249, 7.00046212, 7.05362916, 6.93161952,\n",
       "        6.99047666, 6.93567108, 7.16395557, 6.88378648, 6.94350634,\n",
       "        7.14301879, 6.96853074, 7.02840302, 7.1435185 , 7.07168223,\n",
       "        7.00218653, 7.01312609, 7.14805596, 6.9264671 , 7.08587695,\n",
       "        6.89235569, 7.01772443, 7.09908305, 6.97693799, 7.03043479,\n",
       "        7.02167694, 7.10397017, 7.04408446, 7.07162135, 7.07792031,\n",
       "        6.99156267, 6.92517314, 7.16864823, 7.06935227, 6.93947393,\n",
       "        6.91938761, 6.90678807, 6.89001965, 6.97017882, 7.04934812],\n",
       "       [6.97441949, 7.05092035, 7.02211051, 7.05848847, 6.88986755,\n",
       "        7.0607489 , 7.14974511, 6.84235712, 6.96349495, 7.13045527,\n",
       "        7.1025663 , 7.06015723, 7.02242739, 7.1829085 , 7.06787938,\n",
       "        7.08950593, 7.03187491, 7.05797003, 6.97597853, 7.12374742,\n",
       "        7.00644598, 6.86297193, 6.96602385, 6.89818273, 7.06270026,\n",
       "        6.97527723, 7.1191996 , 7.09572417, 7.07604694, 6.98561673,\n",
       "        6.95524371, 7.01409625, 6.99569657, 7.03541134, 7.21810855,\n",
       "        6.98186858, 7.04090082, 7.15128388, 7.02404114, 7.00648496,\n",
       "        6.97376436, 6.96011445, 7.08823354, 6.87867199, 6.95010194,\n",
       "        7.05463444, 7.00552244, 6.99038874, 7.03477178, 7.00904944,\n",
       "        6.92102717, 7.05355554, 7.09713425, 6.85162544, 6.91774059,\n",
       "        7.0220729 , 7.01821773, 7.08599539, 6.99234445, 7.08519009,\n",
       "        7.15976587, 7.01476743, 7.01893676, 7.12552744, 7.03590099,\n",
       "        6.95231518, 7.05437076, 7.14565785, 6.915179  , 6.97829306,\n",
       "        7.11590807, 6.88444301, 7.04117797, 7.10268492, 7.09461963,\n",
       "        7.0509057 , 6.93737034, 7.1273853 , 6.85236416, 6.99241996,\n",
       "        7.00830459, 7.00857669, 7.07167043, 7.00812928, 6.97140701,\n",
       "        7.0272735 , 7.08473862, 7.17521652, 7.00731344, 7.01562847,\n",
       "        7.00368741, 6.99357045, 7.15947887, 7.19891554, 6.92447453,\n",
       "        6.86206087, 7.04381063, 6.9807287 , 6.99038733, 7.06344896],\n",
       "       [6.99032852, 7.09702965, 7.05173255, 6.97579358, 7.03671555,\n",
       "        7.10864028, 7.08487693, 6.86219672, 6.96146785, 7.09648363,\n",
       "        7.06163336, 7.03222586, 7.19667136, 7.18887393, 7.13517999,\n",
       "        7.08056877, 7.01073145, 7.04654368, 6.9716817 , 7.0835676 ,\n",
       "        7.00688792, 6.8789859 , 6.9426642 , 6.96481684, 6.99001745,\n",
       "        6.98609724, 7.14121988, 7.08207829, 7.13125223, 6.98185256,\n",
       "        6.99273596, 7.02338289, 7.0069158 , 7.04252361, 7.17626955,\n",
       "        7.20160237, 7.02121769, 7.06988393, 6.99826121, 6.98993743,\n",
       "        7.05953079, 6.92899479, 7.07780138, 6.89279292, 6.91760514,\n",
       "        7.04869971, 6.9310857 , 7.03173563, 6.99972054, 7.0016712 ,\n",
       "        6.97634766, 7.00746333, 7.11595126, 7.03704626, 6.97745524,\n",
       "        7.07306875, 7.03064724, 7.05260505, 7.10699788, 7.11402824,\n",
       "        7.08049776, 7.02356248, 7.00410582, 7.09937877, 6.93825638,\n",
       "        6.90022296, 7.03290842, 7.1440523 , 6.94859337, 6.96970596,\n",
       "        7.10601197, 6.96280853, 7.0449024 , 7.06750283, 7.16650703,\n",
       "        7.02327439, 6.92484391, 7.14389881, 6.94059936, 7.09761983,\n",
       "        7.02990733, 7.02090369, 7.09078023, 6.9213327 , 7.00805744,\n",
       "        7.07483596, 7.09980342, 7.10032228, 6.99410641, 7.01111917,\n",
       "        7.01059144, 6.86518281, 7.16378039, 7.14306812, 6.97132506,\n",
       "        6.94459397, 7.03243979, 6.90741466, 7.01625051, 6.99978639],\n",
       "       [6.97456219, 7.03156578, 7.07594945, 6.99900906, 6.90550968,\n",
       "        7.04717008, 7.11758801, 6.83262885, 7.05725067, 7.07677167,\n",
       "        6.99958396, 7.04994917, 7.0839515 , 7.25526874, 7.14395662,\n",
       "        7.02837448, 7.06558392, 7.14619118, 7.04075311, 7.1127597 ,\n",
       "        6.99499123, 6.91508092, 6.97325044, 6.93170573, 7.06162017,\n",
       "        6.9441515 , 7.08122733, 7.07486691, 7.1535588 , 7.00678096,\n",
       "        7.01127449, 7.07403026, 7.0020832 , 7.00951311, 7.1267701 ,\n",
       "        7.0684881 , 7.00323899, 7.02652983, 7.06812906, 7.00657681,\n",
       "        6.99718987, 6.97215132, 7.11875747, 6.97113231, 6.88598804,\n",
       "        7.13423256, 7.028093  , 6.95164835, 7.02273075, 7.03087059,\n",
       "        6.99117995, 7.01117227, 7.0443414 , 7.00764835, 6.95444748,\n",
       "        7.18431013, 7.09037985, 7.03628211, 7.01026073, 7.04317348,\n",
       "        7.12728132, 6.96199737, 6.97926714, 7.04643298, 7.0204756 ,\n",
       "        6.98127528, 6.9830682 , 7.10837589, 6.89369772, 6.94197983,\n",
       "        7.11063528, 6.9777385 , 7.02064872, 7.0810547 , 7.14045985,\n",
       "        7.00568427, 6.9449241 , 7.11378379, 6.90140812, 7.05008887,\n",
       "        6.96885483, 6.97153883, 7.03020515, 7.03732578, 7.06168178,\n",
       "        7.07068204, 7.10609119, 7.08743688, 7.03560872, 7.00687243,\n",
       "        7.04070298, 6.89270027, 7.11917787, 7.12767616, 6.99037653,\n",
       "        6.88354676, 7.04518651, 6.92889143, 7.00816912, 7.01668261]])"
      ]
     },
     "execution_count": 64,
     "metadata": {},
     "output_type": "execute_result"
    }
   ],
   "source": [
    "returns*2 + 5"
   ]
  },
  {
   "cell_type": "markdown",
   "metadata": {},
   "source": [
    "NumPy also has functions specifically built to operate on arrays. Let's take the mean and standard deviation of this group of returns."
   ]
  },
  {
   "cell_type": "code",
   "execution_count": 67,
   "metadata": {
    "collapsed": false
   },
   "outputs": [
    {
     "name": "stdout",
     "output_type": "stream",
     "text": [
      "Mean:  1.013148220950448 Std Dev:  0.03629474385428367\n"
     ]
    }
   ],
   "source": [
    "print(\"Mean: \", np.mean(returns), \"Std Dev: \", np.std(returns))"
   ]
  },
  {
   "cell_type": "markdown",
   "metadata": {},
   "source": [
    "Let's simulate a universe of stocks using NumPy's functions. First we need to create the arrays to hold the assets and returns that we will use to build a portfolio. This is because arrays are created with a fixed size. Their dimensions can't be changed without creating a new array."
   ]
  },
  {
   "cell_type": "code",
   "execution_count": 48,
   "metadata": {
    "collapsed": true
   },
   "outputs": [],
   "source": [
    "N = 10\n",
    "assets = np.zeros((N, 100))\n",
    "returns = np.zeros((N, 100))"
   ]
  },
  {
   "cell_type": "markdown",
   "metadata": {},
   "source": [
    "This function, `zeroes()`, creates a NumPy array with the given dimensions that is entirely filled in with $0$. We can pass a single value or a tuple of as many dimensions as we like. Passing in the tuple `(N, 100)`, will return a two-dimensional array with $N$ rows and $100$ columns. Our result is a $N \\times 100$ array.\n",
    "\n",
    "Now we will simulate a base asset. We want the universe of stocks to be correlated with each other so we will use this initial value to generate the others."
   ]
  },
  {
   "cell_type": "code",
   "execution_count": 49,
   "metadata": {
    "collapsed": false
   },
   "outputs": [],
   "source": [
    "R_1 = np.random.normal(1.01, 0.03, 100)\n",
    "returns[0] = R_1\n",
    "assets[0] = np.cumprod(R_1)"
   ]
  },
  {
   "cell_type": "markdown",
   "metadata": {},
   "source": [
    "The `random` module in NumPy is exceedingly useful. It contains methods for sampling from many different probability distributions, some of which are covered in the [random variables lecture](https://www.quantopian.com/lectures/random-variables) in the Quantopian lecture series. In this case we draw $N = 100$ random samples from a normal distribution with mean $1.01$ and standard deviation $0.03$. We treat these as the daily percentage returns of our asset and take the cumulative product of these samples to get the current price.\n",
    "\n",
    "The way we have generated our universe, the the individual $R_i$ vectors are each 1-dimensional arrays and the `returns` and `assets` variables contain 2-dimensional arrays. Above, we set the initial row of both `returns` and `assets` to be the first $R_i$ vector and the cumulative asset price based on those returns, respectively.\n",
    "\n",
    "We will now use this base asset to create a few other random assets that are correlated with it."
   ]
  },
  {
   "cell_type": "code",
   "execution_count": 69,
   "metadata": {
    "collapsed": false
   },
   "outputs": [],
   "source": [
    "# Generate assets that are correlated with R_1\n",
    "for i in range(1, N):\n",
    "    R_i = R_1 + np.random.normal(0.001, 0.02, 100)\n",
    "    returns[i] = R_i # Set each row of returns equal to the new R_i array\n",
    "    assets[i] = np.cumprod(R_i)\n",
    "    \n",
    "mean_returns = [(np.mean(R) - 1)*100 for R in returns]\n",
    "return_volatilities = [np.std(R) for R in returns]"
   ]
  },
  {
   "cell_type": "markdown",
   "metadata": {},
   "source": [
    "Here we generate the remaining $N - 1$ securities that we want in our universe by adding random noise to $R_1$. This ensures that our $N - 1$ other assets will be correlated with the base asset because they have some underlying information that is shared.\n",
    "\n",
    "Let's plot what the mean return of each asset looks like:"
   ]
  },
  {
   "cell_type": "code",
   "execution_count": 51,
   "metadata": {
    "collapsed": false,
    "scrolled": false
   },
   "outputs": [
    {
     "data": {
      "image/png": "[encoded data removed]",
      "text/plain": [
       "<Figure size 1152x432 with 1 Axes>"
      ]
     },
     "metadata": {},
     "output_type": "display_data"
    }
   ],
   "source": [
    "plt.bar(np.arange(len(mean_returns)), mean_returns)\n",
    "plt.xlabel('Stock')\n",
    "plt.ylabel('Returns')\n",
    "plt.title('Returns for {0} Random Assets'.format(N));"
   ]
  },
  {
   "cell_type": "markdown",
   "metadata": {},
   "source": [
    "### Calculating Expected Return\n",
    "\n",
    "So we have a universe of stocks. Great! Now let's put them together in a portfolio and calculate its expected return and risk.\n",
    "\n",
    "We will start off by generating $N$ random weights for each asset in our portfolio."
   ]
  },
  {
   "cell_type": "code",
   "execution_count": 70,
   "metadata": {
    "collapsed": false
   },
   "outputs": [],
   "source": [
    "weights = np.random.uniform(0, 1, N)\n",
    "weights = weights/np.sum(weights)"
   ]
  },
  {
   "cell_type": "markdown",
   "metadata": {},
   "source": [
    "We have to rescale the weights so that they all add up to $1$. We do this by scaling the weights vector by the sum total of all the weights. This step ensures that we will be using $100\\%$ of the portfolio's cash.\n",
    "\n",
    "To calculate the mean return of the portfolio, we have to scale each asset's return by its designated weight. We can pull each element of each array and multiply them individually, but it's quicker to use NumPy's linear algebra methods. The function that we want is `dot()`. This will calculate the dot product between two arrays for us. So if $v = \\left[ 1, 2, 3 \\right]$ and $w = \\left[4, 5, 6 \\right]$, then:\n",
    "\n",
    "$$ v \\cdot w = 1 \\times 4 + 2 \\times 5 + 3 \\times 6 $$\n",
    "\n",
    "For a one-dimensional vector, the dot product will multiply each element pointwise and add all the products together! In our case, we have a vector of weights, $\\omega = \\left[ \\omega_1, \\omega_2, \\dots \\omega_N\\right]$ and a vector of returns, $\\mu = \\left[ \\mu_1, \\mu_2, \\dots, \\mu_N\\right]$. If we take the dot product of these two we will get:\n",
    "\n",
    "$$ \\omega \\cdot \\mu = \\omega_1\\mu_1 + \\omega_2\\mu_2 + \\dots + \\omega_N\\mu_N = \\mu_P $$\n",
    "\n",
    "This yields the sum of all the asset returns scaled by their respective weights. This the the portfolio's overall expected return!"
   ]
  },
  {
   "cell_type": "code",
   "execution_count": 53,
   "metadata": {
    "collapsed": false
   },
   "outputs": [
    {
     "name": "stdout",
     "output_type": "stream",
     "text": [
      "Expected return of the portfolio:  1.338927677609404\n"
     ]
    }
   ],
   "source": [
    "p_returns = np.dot(weights, mean_returns)\n",
    "print(\"Expected return of the portfolio: \", p_returns)"
   ]
  },
  {
   "cell_type": "markdown",
   "metadata": {},
   "source": [
    "Calculating the mean return is fairly intuitive and does not require too much explanation of linear algebra. However, calculating the variance of our portfolio requires a bit more background."
   ]
  },
  {
   "cell_type": "markdown",
   "metadata": {},
   "source": [
    "#### Beware of NaN values\n",
    "\n",
    "Most of the time, all of these calculations will work without an issue. However, when working with real data we run the risk of having `nan` values in our arrays. This is NumPy's way of saying that the data there is missing or doesn't exist. These `nan` values can lead to errors in mathematical calculations so it is important to be aware of whether your array contains `nan` values and to know how to drop them."
   ]
  },
  {
   "cell_type": "code",
   "execution_count": 54,
   "metadata": {
    "collapsed": false
   },
   "outputs": [
    {
     "name": "stdout",
     "output_type": "stream",
     "text": [
      "[ 1.  2. nan  4.  5.]\n"
     ]
    }
   ],
   "source": [
    "v = np.array([1, 2, np.nan, 4, 5])\n",
    "print(v)"
   ]
  },
  {
   "cell_type": "markdown",
   "metadata": {},
   "source": [
    "Let's see what happens when we try to take the mean of this array."
   ]
  },
  {
   "cell_type": "code",
   "execution_count": 55,
   "metadata": {
    "collapsed": false
   },
   "outputs": [
    {
     "name": "stdout",
     "output_type": "stream",
     "text": [
      "nan\n"
     ]
    }
   ],
   "source": [
    "print(np.mean(v))"
   ]
  },
  {
   "cell_type": "markdown",
   "metadata": {},
   "source": [
    "Clearly, `nan` values can have a large impact on our calculations. Fortunately, we can check for `nan` values with the `isnan()` function."
   ]
  },
  {
   "cell_type": "code",
   "execution_count": 56,
   "metadata": {
    "collapsed": false
   },
   "outputs": [
    {
     "data": {
      "text/plain": [
       "array([False, False,  True, False, False])"
      ]
     },
     "execution_count": 56,
     "metadata": {},
     "output_type": "execute_result"
    }
   ],
   "source": [
    "np.isnan(v)"
   ]
  },
  {
   "cell_type": "markdown",
   "metadata": {},
   "source": [
    "Calling `isnan()` on an array will call the function on each value of the array, returning a value of `True` if the element is `nan` and `False` if the element is valid. Now, knowing whether your array contains `nan` values is all well and good, but how do we remove `nan`s? Handily enough, NumPy arrays can be indexed by boolean values (`True` or `False`). If we use a boolean array to index an array, we will remove all values of the array that register as `False` under the condition. We use the `isnan()` function in create a boolean array, assigning a `True` value to everything that is *not* `nan` and a `False` to the `nan`s and we use that to index the same array."
   ]
  },
  {
   "cell_type": "code",
   "execution_count": 57,
   "metadata": {
    "collapsed": false
   },
   "outputs": [
    {
     "name": "stdout",
     "output_type": "stream",
     "text": [
      "[1. 2. 4. 5.]\n"
     ]
    }
   ],
   "source": [
    "ix = ~np.isnan(v) # the ~ indicates a logical not, inverting the bools\n",
    "print(v[ix]) # We can also just write v = v[~np.isnan(v)])"
   ]
  },
  {
   "cell_type": "code",
   "execution_count": 58,
   "metadata": {
    "collapsed": false
   },
   "outputs": [
    {
     "name": "stdout",
     "output_type": "stream",
     "text": [
      "3.0\n"
     ]
    }
   ],
   "source": [
    "print(np.mean(v[ix]))"
   ]
  },
  {
   "cell_type": "markdown",
   "metadata": {},
   "source": [
    "There are a few shortcuts to this process in the form of NumPy functions specifically built to handle them, such as `nanmean()`."
   ]
  },
  {
   "cell_type": "code",
   "execution_count": 59,
   "metadata": {
    "collapsed": false
   },
   "outputs": [
    {
     "name": "stdout",
     "output_type": "stream",
     "text": [
      "3.0\n"
     ]
    }
   ],
   "source": [
    "print(np.nanmean(v))"
   ]
  },
  {
   "cell_type": "markdown",
   "metadata": {},
   "source": [
    "The `nanmean()` function simply calculates the mean of the array as if there were no `nan` values at all! There are a few more of these functions, so feel free to read more about them in the [documentation](https://docs.scipy.org/doc/numpy/user/index.html). These indeterminate values are more an issue with data than linear algebra itself so it is helpful that there are ways to handle them."
   ]
  },
  {
   "cell_type": "markdown",
   "metadata": {},
   "source": [
    "### Conclusion\n",
    "\n",
    "Linear algebra is pervasive in finance and in general. For example, the calculation of *optimal* weights according to modern portfolio theory is done using linear algebra techniques. The arrays and functions in NumPy allow us to handle these calculations in an intuitive way. For a quick intro to linear algebra and how to use NumPy to do more significant matrix calculations, proceed to the next section."
   ]
  },
  {
   "cell_type": "markdown",
   "metadata": {},
   "source": [
    "## A brief foray into linear algebra\n",
    "\n",
    "Let's start with a basic overview of some linear algebra. Linear algebra comes down to the multiplication and composition of scalar and matrix values. A scalar value is just a real number that we multiply against an array. When we scale a matrix or array using a scalar, we multiply each individual element of that matrix or array by the scalar.\n",
    "\n",
    "A matrix is a collection of values, typically represented by an $m \\times n$ grid, where $m$ is the number of rows and $n$ is the number of columns. The edge lengths $m$ and $n$ do not necessarily have to be different. If we have $m = n$, we call this a square matrix. A particularly interesting case of a matrix is when $m = 1$ or $n = 1$. In this case we have a special case of a matrix that we call a vector. While there is a matrix object in NumPy we will be doing everything using NumPy arrays because they can have dimensions greater than $2$. For the purpose of this section, we will be using matrix and array interchangeably.\n",
    "\n",
    "We can express the matrix equation as:\n",
    "\n",
    "$$ y = A\\cdot x $$\n",
    "\n",
    "Where $A$ is an $m \\times n$ matrix, $y$ is a $m \\times 1$ vector, and $x$ is a $n \\times 1$ vector. On the right-hand side of the equation we are multiplying a matrix by a vector. This requires a little bit more clarification, lest we think that we can go about multiplying any matrices by any other matrices.\n",
    "\n",
    "#### Matrix multiplication\n",
    "\n",
    "With matrix multiplication, the order in which the matrices are multiplied matters. Multiplying a matrix on the left side by another matrix may be just fine, but multiplying on the right may be undefined."
   ]
  },
  {
   "cell_type": "code",
   "execution_count": 60,
   "metadata": {
    "collapsed": true
   },
   "outputs": [],
   "source": [
    "A = np.array([\n",
    "        [1, 2, 3, 12, 6],\n",
    "        [4, 5, 6, 15, 20],\n",
    "        [7, 8, 9, 10, 10]        \n",
    "    ])\n",
    "B = np.array([\n",
    "        [4, 4, 2],\n",
    "        [2, 3, 1],\n",
    "        [6, 5, 8],\n",
    "        [9, 9, 9]\n",
    "    ])"
   ]
  },
  {
   "cell_type": "markdown",
   "metadata": {},
   "source": [
    "Notice that the above-defined matrices, $A$ and $B$, have different dimensions. $A$ is $3 \\times 5$ and $B$ is $4 \\times 3$. The general rule of what can and cannot be multiplied in which order is based on the dimensions of the matrices. Specifically, the number of columns in the matrix on the left must be equal to the number of rows in the matrix on the right. In super informal terms, let's say that we have an $m \\times n$ matrix and a $p \\times q$ matrix. If we multiply the first by the second on the right, we get the following:\n",
    "\n",
    "$$ (m \\times n) \\cdot (p \\times q) = (m \\times q) $$\n",
    "\n",
    "So the resultant product has the same number of rows as the left matrix and the same number of columns as the right matrix. This limitation of matrix multiplication with regards to dimensions is important to keep track of when writing code. To demonstrate this, we use the `dot()` function to multiply our matrices below:"
   ]
  },
  {
   "cell_type": "code",
   "execution_count": 61,
   "metadata": {
    "collapsed": false
   },
   "outputs": [
    {
     "ename": "ValueError",
     "evalue": "shapes (3,5) and (4,3) not aligned: 5 (dim 1) != 4 (dim 0)",
     "output_type": "error",
     "traceback": [
      "\u001b[0;31m---------------------------------------------------------------------------\u001b[0m",
      "\u001b[0;31mValueError\u001b[0m                                Traceback (most recent call last)",
      "\u001b[1;32m/jupyter/quantopian_lectures/Introduction_to_Numpy/introduction_to_numpy.ipynb Cell 67\u001b[0m in \u001b[0;36m<cell line: 1>\u001b[0;34m()\u001b[0m\n\u001b[0;32m----> <a href='vscode-notebook-cell://attached-container%2B7b22636f6e7461696e65724e616d65223a222f7175616e74726f636b65742d6a7570797465722d31227d/jupyter/quantopian_lectures/Introduction_to_Numpy/introduction_to_numpy.ipynb#Y123sdnNjb2RlLXJlbW90ZQ%3D%3D?line=0'>1</a>\u001b[0m \u001b[39mprint\u001b[39m(np\u001b[39m.\u001b[39;49mdot(A, B))\n",
      "File \u001b[0;32m<__array_function__ internals>:5\u001b[0m, in \u001b[0;36mdot\u001b[0;34m(*args, **kwargs)\u001b[0m\n",
      "\u001b[0;31mValueError\u001b[0m: shapes (3,5) and (4,3) not aligned: 5 (dim 1) != 4 (dim 0)"
     ]
    }
   ],
   "source": [
    "print(np.dot(A, B))"
   ]
  },
  {
   "cell_type": "markdown",
   "metadata": {},
   "source": [
    "These results make sense in accordance with our rule. Multiplying a $3 \\times 5$ matrix on the right by a $4 \\times 3$ matrix results in an error while multiplying a $4 \\times 3$ matrix on the right by a $3 \\times 5$ matrix results in a $4 \\times 5$ matrix."
   ]
  },
  {
   "cell_type": "code",
   "execution_count": null,
   "metadata": {
    "collapsed": false
   },
   "outputs": [
    {
     "name": "stdout",
     "output_type": "stream",
     "text": [
      "[[ 34  44  54 128 124]\n",
      " [ 21  27  33  79  82]\n",
      " [ 82 101 120 227 216]\n",
      " [108 135 162 333 324]]\n"
     ]
    }
   ],
   "source": [
    "print(np.dot(B, A))"
   ]
  },
  {
   "cell_type": "markdown",
   "metadata": {},
   "source": [
    "### Portfolio Variance\n",
    "\n",
    "Let's return to our portfolio example from before. We calculated the expected return of the portfolio, but how do we calculate the variance? We start by trying to evaluate the portfolio as a sum of each individual asset, scaled by it's weight.\n",
    "\n",
    "$$ VAR[P] = VAR[\\omega_1 S_1 + \\omega_2 S_2 + \\cdots + \\omega_N S_N] $$\n",
    "\n",
    "Where $S_0, \\cdots, S_N$ are the assets contained within our universe. If all of our assets were independent of each other, we could simply evaluate this as\n",
    "\n",
    "$$ VAR[P] = VAR[\\omega_1 S_1] + VAR[\\omega_2 S_2] + \\cdots + VAR[\\omega_N S_N] = \\omega_1^2\\sigma_1^2 + \\omega_2^2\\sigma_2^2 + \\cdots + \\omega_N^2\\sigma_N^2 $$\n",
    "\n",
    "However, all of our assets depend on each other by their construction. They are all in some way related to our base asset and therefore each other. We thus have to calculate the variance of the portfolio by including the individual pairwise covariances of each asset. Our formula for the variance of the portfolio:\n",
    "\n",
    "$$ VAR[P] = \\sigma_P^2 = \\sum_i \\omega_i^2\\sigma_i^2 + \\sum_i\\sum_{i\\neq j} \\omega_i\\omega_j\\sigma_i\\sigma_j\\rho_{i, j}, \\ i, j \\in \\lbrace 1, 2, \\cdots, N \\rbrace $$\n",
    "\n",
    "Where $\\rho_{i,j}$ is the correlation between $S_i$ and $S_j$, $\\rho_{i, j} = \\frac{COV[S_i, S_j]}{\\sigma_i\\sigma_j}$. This seems exceedingly complicated, but we can easily handle all of this using NumPy arrays. First, we calculate the covariance matrix that relates all the individual stocks in our universe."
   ]
  },
  {
   "cell_type": "code",
   "execution_count": null,
   "metadata": {
    "collapsed": false
   },
   "outputs": [
    {
     "name": "stdout",
     "output_type": "stream",
     "text": [
      "[[ 0.00086058  0.00089203  0.00090705  0.00097867  0.00079707  0.00085327\n",
      "   0.00076728  0.00093279  0.00085655  0.00076459]\n",
      " [ 0.00089203  0.00133583  0.00097512  0.00099617  0.00082914  0.00089555\n",
      "   0.00087399  0.00092142  0.00080857  0.00083485]\n",
      " [ 0.00090705  0.00097512  0.00134549  0.00106267  0.00082659  0.00087943\n",
      "   0.00081558  0.00101182  0.0008822   0.00079261]\n",
      " [ 0.00097867  0.00099617  0.00106267  0.00151787  0.00094079  0.0010231\n",
      "   0.00086453  0.00106496  0.00100924  0.00090792]\n",
      " [ 0.00079707  0.00082914  0.00082659  0.00094079  0.00109599  0.00077462\n",
      "   0.00071631  0.00089835  0.00081464  0.00073657]\n",
      " [ 0.00085327  0.00089555  0.00087943  0.0010231   0.00077462  0.00124298\n",
      "   0.00072712  0.00096373  0.00078529  0.00079774]\n",
      " [ 0.00076728  0.00087399  0.00081558  0.00086453  0.00071631  0.00072712\n",
      "   0.00107769  0.0007624   0.00076273  0.00066191]\n",
      " [ 0.00093279  0.00092142  0.00101182  0.00106496  0.00089835  0.00096373\n",
      "   0.0007624   0.00141976  0.00086849  0.00085365]\n",
      " [ 0.00085655  0.00080857  0.0008822   0.00100924  0.00081464  0.00078529\n",
      "   0.00076273  0.00086849  0.00135418  0.00070977]\n",
      " [ 0.00076459  0.00083485  0.00079261  0.00090792  0.00073657  0.00079774\n",
      "   0.00066191  0.00085365  0.00070977  0.00106124]]\n"
     ]
    }
   ],
   "source": [
    "cov_mat = np.cov(returns)\n",
    "print(cov_mat)"
   ]
  },
  {
   "cell_type": "markdown",
   "metadata": {},
   "source": [
    "This array is not formatted particularly nicely, but a covariance matrix is a very important concept. The covariance matrix is of the form:\n",
    "\n",
    "$$ \\left[\\begin{matrix}\n",
    "VAR[S_1] & COV[S_1, S_2] & \\cdots & COV[S_1, S_N] \\\\\n",
    "COV[S_2, S_1] & VAR[S_2] & \\cdots & COV[S_2, S_N] \\\\\n",
    "\\vdots & \\vdots & \\ddots & \\vdots \\\\\n",
    "COV[S_N, S_1] & COV[S_N, S_2] & \\cdots & VAR[S_N]\n",
    "\\end{matrix}\\right] $$\n",
    "\n",
    "So each diagonal entry is the variance of that asset at that index and each off-diagonal holds the covariance of two assets indexed by the column and row number. What is important is that once we have the covariance matrix we are able to do some very quick linear algebra to calculate the variance of the overall portfolio. We can represent the variance of the portfolio in array form as:\n",
    "\n",
    "$$ \\sigma_p^2 = \\omega \\ C \\ \\omega^\\intercal$$\n",
    "\n",
    "Where $C$ is the covariance matrix of all the assets and $\\omega$ is the array containing the weights of each individual asset. The superscript $\\intercal$ on the second $\\omega$ listed above denotes the **transpose** of $\\omega$. For a reference on the evaluation of the variance of a portfolio as a matrix equation, please see the Wikipedia article on [modern portfolio theory](https://en.wikipedia.org/wiki/Modern_portfolio_theory).\n",
    "\n",
    "The transpose of an array is what you get when you switch the rows and columns of an array. This has the effect of reflecting an array across what you might imagine as a diagonal. For example, take our array $A$ from before:"
   ]
  },
  {
   "cell_type": "code",
   "execution_count": null,
   "metadata": {
    "collapsed": false
   },
   "outputs": [
    {
     "name": "stdout",
     "output_type": "stream",
     "text": [
      "[[ 1  2  3 12  6]\n",
      " [ 4  5  6 15 20]\n",
      " [ 7  8  9 10 10]]\n"
     ]
    }
   ],
   "source": [
    "print(A)"
   ]
  },
  {
   "cell_type": "markdown",
   "metadata": {},
   "source": [
    "The transpose looks like a mirror image of the same array."
   ]
  },
  {
   "cell_type": "code",
   "execution_count": null,
   "metadata": {
    "collapsed": false
   },
   "outputs": [
    {
     "name": "stdout",
     "output_type": "stream",
     "text": [
      "[[ 1  4  7]\n",
      " [ 2  5  8]\n",
      " [ 3  6  9]\n",
      " [12 15 10]\n",
      " [ 6 20 10]]\n"
     ]
    }
   ],
   "source": [
    "print(np.transpose(A))"
   ]
  },
  {
   "cell_type": "markdown",
   "metadata": {},
   "source": [
    "But $\\omega$ here is a 1-dimensional array, a vector! It makes perfect to take the transpose of $A$, a $3 \\times 5$ array, as the output will be a $5 \\times 3$ array, but a 1-dimensional array is not quite as intuitive. A typical 1-dimensional array can be thought of as a $1 \\times n$ horizontal vector. Thus, taking the tranpose of this array essentially means changing it into a $n \\times 1$ vertical vector. This makes sense because 1-dimensional arrays are still arrays and any multiplication done between 1-dimensional and higher dimensional arrays must keep in line with our dimensionality issue of matrix multiplication.\n",
    "\n",
    "To make a long story short, we think of $\\omega$ as $1 \\times N$ since we have $N$ securities. This makes it so that $\\omega^\\intercal$ is $N \\times 1$. Again, our covariance matrix is $N \\times N$. So the overall multiplication works out like so, in informal terms:\n",
    "\n",
    "$$ \\text{Dimensions}(\\sigma_p^2) = \\text{Dimensions}(\\omega C \\omega^\\intercal) = (1 \\times N)\\cdot (N \\times N)\\cdot (N \\times 1) = (1 \\times 1)$$\n",
    "\n",
    "Multiplying the covariance matrix on the left by the plain horizontal vector and on the right by that vector's transpose results in the calculation of a single scalar ($1 \\times 1$) value, our portfolio's variance.\n",
    "\n",
    "So knowing this, let's proceed and calculate the portfolio variance! We can easily calculate the product of these arrays by using `dot()` for matrix multiplication, though this time we have to do it twice."
   ]
  },
  {
   "cell_type": "code",
   "execution_count": null,
   "metadata": {
    "collapsed": false,
    "scrolled": false
   },
   "outputs": [
    {
     "name": "stdout",
     "output_type": "stream",
     "text": [
      "Portfolio volatility:  0.0297400694577\n"
     ]
    }
   ],
   "source": [
    "# Calculating the portfolio volatility\n",
    "var_p = np.dot(np.dot(weights, cov_mat), weights.T)\n",
    "vol_p = np.sqrt(var_p)\n",
    "print(\"Portfolio volatility: \", vol_p)"
   ]
  },
  {
   "cell_type": "markdown",
   "metadata": {},
   "source": [
    "To confirm this calculation, let's simply evaluate the volatility of the portfolio using only NumPy functions."
   ]
  },
  {
   "cell_type": "code",
   "execution_count": null,
   "metadata": {
    "collapsed": false
   },
   "outputs": [
    {
     "name": "stdout",
     "output_type": "stream",
     "text": [
      "Portfolio volatility:  0.0297400694577\n"
     ]
    }
   ],
   "source": [
    "# Confirming calculation\n",
    "vol_p_alt = np.sqrt(np.var(np.dot(weights, returns), ddof=1))\n",
    "print(\"Portfolio volatility: \", vol_p_alt)"
   ]
  },
  {
   "cell_type": "markdown",
   "metadata": {},
   "source": [
    "The `ddof` parameter is a simple integer input that tells the function the number of degrees of freedom to take into account. This is a more statistical concept, but what this tells us that our matrix calculation is correct!\n",
    "\n",
    "A lot of this might not make sense at first glance. It helps to go back and forth between the theory and the code representations until you have a better grasp of the mathematics involved. It is definitely not necessary to be an expert on linear algebra and on matrix operations, but linear algebra can help to streamline the process of working with large amounts of data. For further reading on NumPy, check out the [documentation](https://docs.scipy.org/doc/numpy/user/index.html)."
   ]
  },
  {
   "cell_type": "markdown",
   "metadata": {},
   "source": [
    "*This presentation is for informational purposes only and does not constitute an offer to sell, a solicitation to buy, or a recommendation for any security; nor does it constitute an offer to provide investment advisory or other services by Quantopian, Inc. (\"Quantopian\"). Nothing contained herein constitutes investment advice or offers any opinion with respect to the suitability of any security, and any views expressed herein should not be taken as advice to buy, sell, or hold any security or as an endorsement of any security or company.  In preparing the information contained herein, Quantopian, Inc. has not taken into account the investment needs, objectives, and financial circumstances of any particular investor. Any views expressed and data illustrated herein were prepared based upon information, believed to be reliable, available to Quantopian, Inc. at the time of publication. Quantopian makes no guarantees as to their accuracy or completeness. All information is subject to change and may quickly become unreliable for various reasons, including changes in market conditions or economic circumstances.*"
   ]
  }
 ],
 "metadata": {
  "kernelspec": {
   "display_name": "base",
   "language": "python",
   "name": "python3"
  },
  "language_info": {
   "codemirror_mode": {
    "name": "ipython",
    "version": 3
   },
   "file_extension": ".py",
   "mimetype": "text/x-python",
   "name": "python",
   "nbconvert_exporter": "python",
   "pygments_lexer": "ipython3",
   "version": "3.9.12"
  },
  "vscode": {
   "interpreter": {
    "hash": "d4d1e4263499bec80672ea0156c357c1ee493ec2b1c70f0acce89fc37c4a6abe"
   }
  }
 },
 "nbformat": 4,
 "nbformat_minor": 0
}
